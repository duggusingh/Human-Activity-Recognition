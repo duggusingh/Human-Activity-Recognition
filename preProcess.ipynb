{
 "cells": [
  {
   "cell_type": "code",
   "execution_count": 1,
   "metadata": {},
   "outputs": [],
   "source": [
    "# -----IMPORTING PACKAGES-------#\n",
    "import pandas as pd\n",
    "import os   #used here for making the application system independent"
   ]
  },
  {
   "cell_type": "code",
   "execution_count": 2,
   "metadata": {},
   "outputs": [],
   "source": [
    "curr_dir = os.getcwd()\n",
    "data_path_acc = os.path.join(curr_dir,\"data/Phones_accelerometer.csv\")\n",
    "data_path_gyro = os.path.join(curr_dir,\"data/Phones_gyroscope.csv\")\n",
    "op_path_aData = os.path.join(curr_dir,\"data/aData.csv\")\n",
    "op_path_gData = os.path.join(curr_dir,\"data/gData.csv\")"
   ]
  },
  {
   "cell_type": "code",
   "execution_count": 3,
   "metadata": {},
   "outputs": [],
   "source": [
    "df_acc = pd.read_csv(data_path_acc)\n",
    "df_gyro = pd.read_csv(data_path_gyro)"
   ]
  },
  {
   "cell_type": "code",
   "execution_count": 4,
   "metadata": {},
   "outputs": [],
   "source": [
    "activity_dict = {\n",
    "    'stand':1,\n",
    "    'sit':2,\n",
    "    'walk':3,\n",
    "    'stairsup':4,\n",
    "    'stairsdown':5,\n",
    "    'bike':6\n",
    "}"
   ]
  },
  {
   "cell_type": "code",
   "execution_count": 5,
   "metadata": {},
   "outputs": [],
   "source": [
    "df_acc1 = df_acc[['Index','x','y','z','gt']]\n",
    "df_acc1 = df_acc1.replace({\"gt\":activity_dict})\n",
    "\n",
    "df_gyro1 = df_gyro[['x','y','z']]\n",
    "df_gyro1 = df_gyro1.replace({\"gt\":activity_dict})"
   ]
  },
  {
   "cell_type": "code",
   "execution_count": 6,
   "metadata": {},
   "outputs": [],
   "source": [
    "#renameing the tag\n",
    "df_acc1.rename(columns={'Index':'Index',\n",
    "                        'x':'ax',\n",
    "                        'y':'ay',\n",
    "                        'z':'az',\n",
    "                        'gt':'Activity',}, \n",
    "                        inplace=True)\n",
    "\n",
    "df_gyro1.rename(columns={'x':'gx',\n",
    "                        'y':'gy',\n",
    "                        'z':'gz',}, \n",
    "                        inplace=True)"
   ]
  },
  {
   "cell_type": "code",
   "execution_count": 7,
   "metadata": {},
   "outputs": [],
   "source": [
    "merged = [df_acc1, df_gyro1]\n",
    "df_gData = pd.concat(merged,axis=1)"
   ]
  },
  {
   "cell_type": "code",
   "execution_count": 8,
   "metadata": {},
   "outputs": [],
   "source": [
    "df_gData = df_gData[['Index','ax','ay','az','gx','gy','gz','Activity']]"
   ]
  },
  {
   "cell_type": "code",
   "execution_count": 9,
   "metadata": {},
   "outputs": [],
   "source": [
    "df_gData.to_csv(op_path_gData)"
   ]
  },
  {
   "cell_type": "code",
   "execution_count": 10,
   "metadata": {},
   "outputs": [],
   "source": [
    "df_acc1.to_csv(op_path_aData)"
   ]
  }
 ],
 "metadata": {
  "kernelspec": {
   "display_name": "Python 3",
   "language": "python",
   "name": "python3"
  },
  "language_info": {
   "codemirror_mode": {
    "name": "ipython",
    "version": 3
   },
   "file_extension": ".py",
   "mimetype": "text/x-python",
   "name": "python",
   "nbconvert_exporter": "python",
   "pygments_lexer": "ipython3",
   "version": "3.7.3"
  }
 },
 "nbformat": 4,
 "nbformat_minor": 2
}
